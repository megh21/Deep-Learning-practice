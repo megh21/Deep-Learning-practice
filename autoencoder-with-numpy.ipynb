{
 "cells": [
  {
   "cell_type": "markdown",
   "id": "d41642de",
   "metadata": {
    "papermill": {
     "duration": 0.009295,
     "end_time": "2022-06-20T23:09:37.619764",
     "exception": false,
     "start_time": "2022-06-20T23:09:37.610469",
     "status": "completed"
    },
    "tags": []
   },
   "source": [
    "# Autoencoder from scratch\n",
    "<div style=\"text-align: right;font-size: 0.8em\">Document Version 1.0.1, released 2021-01-04</div>\n",
    "For task instructions, refer to the assignment PDF.\n",
    "\n",
    "* The parts of the code you are to implement are indicated via `# TODO` comments.\n",
    "* You can use the `# Test code` cells to verify your implementation. However note that these are not the unit tests used for grading.\n",
    "* Some cells create export file in the `solution/` folder. _Include whole `solution/` folder in your submission_.\n",
    "* DO NOT CLEAR THE OUTPUT of the notebook you are submitting!"
   ]
  },
  {
   "cell_type": "code",
   "execution_count": 1,
   "id": "26e93021",
   "metadata": {
    "execution": {
     "iopub.execute_input": "2022-06-20T23:09:37.633916Z",
     "iopub.status.busy": "2022-06-20T23:09:37.633105Z",
     "iopub.status.idle": "2022-06-20T23:09:37.756530Z",
     "shell.execute_reply": "2022-06-20T23:09:37.755719Z"
    },
    "papermill": {
     "duration": 0.133104,
     "end_time": "2022-06-20T23:09:37.758845",
     "exception": false,
     "start_time": "2022-06-20T23:09:37.625741",
     "status": "completed"
    },
    "tags": []
   },
   "outputs": [],
   "source": [
    "# General imports\n",
    "from pathlib import Path\n",
    "import pickle\n",
    "import numpy as np\n",
    "import matplotlib.pyplot as plt\n",
    "from tqdm.auto import tqdm\n",
    "\n",
    "# Create solution folder\n",
    "Path(\"solution/\").mkdir(exist_ok=True)"
   ]
  },
  {
   "cell_type": "markdown",
   "id": "41f3191f",
   "metadata": {
    "papermill": {
     "duration": 0.005683,
     "end_time": "2022-06-20T23:09:37.770610",
     "exception": false,
     "start_time": "2022-06-20T23:09:37.764927",
     "status": "completed"
    },
    "tags": []
   },
   "source": [
    "## Question A1 - Neural Network Class\n",
    "In this task you will implement the building blocks of a simple neural network class.\n",
    "\n",
    "For simplicity's sake, this class will only allow feed forward networks.\n",
    "All individual operations, including activation functions, will be represented as layers in this model.\n",
    "The abstract `Layer` interface defines three methods:"
   ]
  },
  {
   "cell_type": "code",
   "execution_count": 2,
   "id": "f5bfc19d",
   "metadata": {
    "execution": {
     "iopub.execute_input": "2022-06-20T23:09:37.783543Z",
     "iopub.status.busy": "2022-06-20T23:09:37.783202Z",
     "iopub.status.idle": "2022-06-20T23:09:37.790765Z",
     "shell.execute_reply": "2022-06-20T23:09:37.789855Z"
    },
    "papermill": {
     "duration": 0.016418,
     "end_time": "2022-06-20T23:09:37.792815",
     "exception": false,
     "start_time": "2022-06-20T23:09:37.776397",
     "status": "completed"
    },
    "tags": []
   },
   "outputs": [],
   "source": [
    "class Layer:\n",
    "    def forward(self, x):\n",
    "        \"\"\"Forward pass of the layer.\n",
    "        For convenience, input and output are stored in the layer. \n",
    "\n",
    "        Args:\n",
    "            x: Input for this layer. Shape is (batch_size, num_inputs).\n",
    "\n",
    "        Returns:\n",
    "            x: Output of this layer. Shape is (batch_size, num_outputs).\n",
    "        \"\"\"\n",
    "        raise NotImplementedError\n",
    "\n",
    "    def backward(self, gradient):\n",
    "        \"\"\"Backward pass of the layer.\n",
    "        The incoming gradients are stored in the layer. \n",
    "\n",
    "        Args:\n",
    "            gradient: Incoming gradient from the next layer. Shape is (batch_size, num_outputs).\n",
    "\n",
    "        Returns:\n",
    "            gradient: Gradient passed to previous layer. Shape is (batch_size, num_inputs).\n",
    "        \"\"\"\n",
    "        raise NotImplementedError\n",
    "\n",
    "    def update(self, learn_rate):\n",
    "        \"\"\"Perform weight update based on previously stored input and gradients.\n",
    "\n",
    "        Args:\n",
    "            learn_rate: Learn rate to use for the update.\n",
    "        \"\"\""
   ]
  },
  {
   "cell_type": "markdown",
   "id": "4e07100c",
   "metadata": {
    "papermill": {
     "duration": 0.00575,
     "end_time": "2022-06-20T23:09:37.804730",
     "exception": false,
     "start_time": "2022-06-20T23:09:37.798980",
     "status": "completed"
    },
    "tags": []
   },
   "source": [
    "### a) Linear Layer"
   ]
  },
  {
   "cell_type": "code",
   "execution_count": 3,
   "id": "9d562f0f",
   "metadata": {
    "execution": {
     "iopub.execute_input": "2022-06-20T23:09:37.818724Z",
     "iopub.status.busy": "2022-06-20T23:09:37.818123Z",
     "iopub.status.idle": "2022-06-20T23:09:37.826570Z",
     "shell.execute_reply": "2022-06-20T23:09:37.825945Z"
    },
    "papermill": {
     "duration": 0.017723,
     "end_time": "2022-06-20T23:09:37.828589",
     "exception": false,
     "start_time": "2022-06-20T23:09:37.810866",
     "status": "completed"
    },
    "tags": []
   },
   "outputs": [],
   "source": [
    "class LinearLayer(Layer):\n",
    "    def __init__(self, input_dim, output_dim, seed=None):\n",
    "        \"\"\"Initialize the layer with random weights.\"\"\"\n",
    "        # Initialize weights with the He initializer\n",
    "        rnd = np.random.RandomState(seed).randn(input_dim, output_dim)\n",
    "        self.w = rnd * (2 / input_dim) \n",
    "        \n",
    "        # Initialize bias with zeros\n",
    "        self.b = np.zeros(output_dim,dtype=np.float64)\n",
    "        \n",
    "    def forward(self, x):\n",
    "        \"\"\"Forward pass of the layer.\"\"\"\n",
    "        self.input = x # Store input\n",
    "       \n",
    "        # ********************\n",
    "        # TODO Compute output\n",
    "        #print([(type(i),np.shape(i)) for i in [self.input , self.w, self.b]],\"self.input , self.w , self.b\")\n",
    "        #x = self.input @self.w +self.b\n",
    "        x = np.matmul(self.input,self.w, dtype=np.float64) +self.b\n",
    "        \n",
    "        \n",
    "        \n",
    "        \n",
    "        # ********************\n",
    "        \n",
    "        self.output = x # Store output\n",
    "        return x\n",
    "    \n",
    "    def backward(self, gradient):\n",
    "        \"\"\"Backward pass of the layer.\"\"\"\n",
    "        self.gradient = gradient # Store incoming gradient\n",
    "        \n",
    "        # ********************\n",
    "        # TODO Apply transfer gradient\n",
    "        #print(self.gradient.shape,\"self.gradient shape in layer\",self.w.T.shape,\"self.w.T for layer\")\n",
    "        #gradient =self.gradient@self.w.T\n",
    "        gradient =np.matmul(self.gradient,self.w.T, dtype=np.float64)\n",
    "            \n",
    "        \n",
    "        \n",
    "        # ********************\n",
    "        \n",
    "        return gradient\n",
    "    \n",
    "    def update(self, learn_rate):\n",
    "        \"\"\"Perform weight update\"\"\"\n",
    "        # ********************\n",
    "        # TODO Update weights and bias\n",
    "      \n",
    "        self.w -=learn_rate*np.matmul(self.input.T,self.gradient, dtype=np.float64)\n",
    "      \n",
    "        self.b -=learn_rate* np.mean(self.gradient.T,axis=1, keepdims=True,dtype=np.float64).reshape(-1)\n",
    "\n",
    "        \n",
    "        # ********************"
   ]
  },
  {
   "cell_type": "code",
   "execution_count": 4,
   "id": "56f231af",
   "metadata": {
    "execution": {
     "iopub.execute_input": "2022-06-20T23:09:37.842593Z",
     "iopub.status.busy": "2022-06-20T23:09:37.841983Z",
     "iopub.status.idle": "2022-06-20T23:09:37.878407Z",
     "shell.execute_reply": "2022-06-20T23:09:37.877584Z"
    },
    "papermill": {
     "duration": 0.046391,
     "end_time": "2022-06-20T23:09:37.880805",
     "exception": false,
     "start_time": "2022-06-20T23:09:37.834414",
     "status": "completed"
    },
    "tags": []
   },
   "outputs": [
    {
     "name": "stdout",
     "output_type": "stream",
     "text": [
      "ok1\n"
     ]
    },
    {
     "data": {
      "text/plain": [
       "'ok'"
      ]
     },
     "execution_count": 4,
     "metadata": {},
     "output_type": "execute_result"
    }
   ],
   "source": [
    "# Test code\n",
    "_test_layer = LinearLayer(4, 5, seed=42)\n",
    "#print(_test_layer.forward(np.ones((2, 4))),\"here\")\n",
    "# Test forward pass\n",
    "np.testing.assert_array_almost_equal(_test_layer.forward(np.ones((1, 4))), [[-0.38156401, -0.01880618,  0.98566644, -0.88387442, -1.41440743]])\n",
    "print(\"ok1\")\n",
    "# Test backward pass\n",
    "np.testing.assert_array_almost_equal(_test_layer.backward(np.ones((1, 5))), [[1.147507,  1.092798, -2.162692, -1.7906 ]])\n",
    "\n",
    "# Test update\n",
    "_test_layer.update(0.1)\n",
    "np.testing.assert_array_almost_equal(_test_layer.w, [[ 0.148357, -0.169132,  0.223844,  0.661515, -0.217077], [-0.217068,  0.689606,  0.283717, -0.334737,  0.17128 ], [-0.331709, -0.332865,  0.020981, -1.05664 , -0.962459], [-0.381144, -0.606416,  0.057124, -0.554012, -0.806152]])\n",
    "np.testing.assert_array_almost_equal(_test_layer.b, [-0.1, -0.1, -0.1, -0.1, -0.1])\n",
    "\"ok\""
   ]
  },
  {
   "cell_type": "markdown",
   "id": "90b92315",
   "metadata": {
    "papermill": {
     "duration": 0.005749,
     "end_time": "2022-06-20T23:09:37.892463",
     "exception": false,
     "start_time": "2022-06-20T23:09:37.886714",
     "status": "completed"
    },
    "tags": []
   },
   "source": [
    "### b) Implementing ReLU"
   ]
  },
  {
   "cell_type": "code",
   "execution_count": 5,
   "id": "0354b42c",
   "metadata": {
    "execution": {
     "iopub.execute_input": "2022-06-20T23:09:37.908802Z",
     "iopub.status.busy": "2022-06-20T23:09:37.907498Z",
     "iopub.status.idle": "2022-06-20T23:09:37.916458Z",
     "shell.execute_reply": "2022-06-20T23:09:37.915482Z"
    },
    "papermill": {
     "duration": 0.01918,
     "end_time": "2022-06-20T23:09:37.918433",
     "exception": false,
     "start_time": "2022-06-20T23:09:37.899253",
     "status": "completed"
    },
    "tags": []
   },
   "outputs": [],
   "source": [
    "class ReLULayer(Layer):      \n",
    "    def forward(self, x):\n",
    "        \"\"\"Forward pass of the ReLU layer.\"\"\"\n",
    "        self.input = x # Store input\n",
    "        \n",
    "        # ********************\n",
    "        # TODO Compute output\n",
    "        x = np.maximum(0, self.input,dtype=np.float64)\n",
    "        \n",
    "#         print(self.input.shape,\"relu shape forward\")\n",
    "        \n",
    "        # ********************\n",
    "        \n",
    "        self.output = x # Store output\n",
    "        return x\n",
    "    \n",
    "    def backward(self, gradient):\n",
    "        \"\"\"Backward pass of the ReLU layer.\"\"\"\n",
    "        self.gradient = gradient # Store incoming gradient\n",
    "        \n",
    "        # ********************\n",
    "        # TODO Apply transfer gradient\n",
    "        gradient[self.output<=0]=0 \n",
    "#         print(self.output.shape,\"relu shape backward\")\n",
    "        \"\"\"##output or input\"\"\"\n",
    "        \n",
    "        \n",
    "        \n",
    "        # ********************\n",
    "        \n",
    "        return gradient"
   ]
  },
  {
   "cell_type": "code",
   "execution_count": 6,
   "id": "ae58e64a",
   "metadata": {
    "execution": {
     "iopub.execute_input": "2022-06-20T23:09:37.932748Z",
     "iopub.status.busy": "2022-06-20T23:09:37.932154Z",
     "iopub.status.idle": "2022-06-20T23:09:37.942643Z",
     "shell.execute_reply": "2022-06-20T23:09:37.941245Z"
    },
    "papermill": {
     "duration": 0.019664,
     "end_time": "2022-06-20T23:09:37.944703",
     "exception": false,
     "start_time": "2022-06-20T23:09:37.925039",
     "status": "completed"
    },
    "tags": []
   },
   "outputs": [
    {
     "data": {
      "text/plain": [
       "'ok'"
      ]
     },
     "execution_count": 6,
     "metadata": {},
     "output_type": "execute_result"
    }
   ],
   "source": [
    "# Test Code\n",
    "_test_layer = ReLULayer()\n",
    "\n",
    "# Test forward pass\n",
    "np.testing.assert_array_almost_equal(_test_layer.forward(np.arange(5)-2), [0, 0,  0, 1, 2])\n",
    "\n",
    "# Test backward pass\n",
    "assert np.array_equal(_test_layer.backward(np.ones(5)), [0, 0, 0, 1, 1]) or np.array_equal(_test_layer.backward(np.ones(5)), [0, 0, 1, 1, 1]), f\"backward expected {[0, 0, 1, 1, 1]} or {[0, 0, 0, 1, 1]}, but got {_test_layer.backward(np.ones(5))}\"\n",
    "\n",
    "\"ok\""
   ]
  },
  {
   "cell_type": "markdown",
   "id": "34b1a013",
   "metadata": {
    "papermill": {
     "duration": 0.006059,
     "end_time": "2022-06-20T23:09:37.958228",
     "exception": false,
     "start_time": "2022-06-20T23:09:37.952169",
     "status": "completed"
    },
    "tags": []
   },
   "source": [
    "### c) Softmax Layer"
   ]
  },
  {
   "cell_type": "code",
   "execution_count": 7,
   "id": "935f2830",
   "metadata": {
    "execution": {
     "iopub.execute_input": "2022-06-20T23:09:37.972375Z",
     "iopub.status.busy": "2022-06-20T23:09:37.971747Z",
     "iopub.status.idle": "2022-06-20T23:09:37.979409Z",
     "shell.execute_reply": "2022-06-20T23:09:37.978809Z"
    },
    "papermill": {
     "duration": 0.016996,
     "end_time": "2022-06-20T23:09:37.981395",
     "exception": false,
     "start_time": "2022-06-20T23:09:37.964399",
     "status": "completed"
    },
    "tags": []
   },
   "outputs": [],
   "source": [
    "class SoftmaxLayer(Layer):      \n",
    "    def forward(self, x):\n",
    "        \"\"\"Forward pass of the softmax layer.\"\"\"\n",
    "        self.input = x # Store input\n",
    "        \n",
    "        # ********************\n",
    "        # TODO Compute output\n",
    "        # x = ...\n",
    "        \n",
    "        exp_score=np.exp(self.input-np.max(self.input))\n",
    "        x=exp_score/np.sum(exp_score,dtype=np.float64)#,axis=1,keepdims=True)\n",
    "     \n",
    "        \n",
    "        # ********************\n",
    "        \n",
    "        self.output = x # Store output\n",
    "        return x\n",
    "    \n",
    "    def backward(self, gradient):\n",
    "        \"\"\"Backward pass of the ReLU layer.\"\"\"\n",
    "        self.gradient = gradient # Store incoming gradient\n",
    "        \n",
    "        # ********************\n",
    "        # TODO Apply transfer gradient\n",
    "        exp_score=np.exp(self.gradient-np.max(self.gradient),dtype=np.float64)\n",
    "        self.gradient=exp_score/np.sum(exp_score)#,axis=1,keepdims=True)\n",
    "     \n",
    "        \n",
    "        # ********************\n",
    "        \n",
    "        \n",
    "        \n",
    "        # ********************\n",
    "        \n",
    "        return gradient"
   ]
  },
  {
   "cell_type": "code",
   "execution_count": 8,
   "id": "354239a0",
   "metadata": {
    "execution": {
     "iopub.execute_input": "2022-06-20T23:09:37.995918Z",
     "iopub.status.busy": "2022-06-20T23:09:37.995527Z",
     "iopub.status.idle": "2022-06-20T23:09:38.005092Z",
     "shell.execute_reply": "2022-06-20T23:09:38.004371Z"
    },
    "papermill": {
     "duration": 0.018912,
     "end_time": "2022-06-20T23:09:38.006720",
     "exception": false,
     "start_time": "2022-06-20T23:09:37.987808",
     "status": "completed"
    },
    "tags": []
   },
   "outputs": [
    {
     "data": {
      "text/plain": [
       "'ok'"
      ]
     },
     "execution_count": 8,
     "metadata": {},
     "output_type": "execute_result"
    }
   ],
   "source": [
    "# Test code\n",
    "_test_layer = SoftmaxLayer()\n",
    "\n",
    "# Test forward pass\n",
    "np.testing.assert_array_almost_equal(_test_layer.forward([[1, 1]]), [[0.5, 0.5]])\n",
    "np.testing.assert_array_almost_equal(_test_layer.forward([[1, 2, 3]]), [[0.09003057, 0.24472847, 0.66524096]])\n",
    "np.testing.assert_array_almost_equal(_test_layer.forward([[0, 1, 2]]), [[0.09003057, 0.24472847, 0.66524096]])\n",
    "np.testing.assert_array_almost_equal(_test_layer.forward([[0]]), [[1]])\n",
    "np.testing.assert_array_almost_equal(_test_layer.forward([[0, 10, 100, 1e6]]), [[0, 0, 0, 1]], err_msg=\"Overflow\")\n",
    "\n",
    "\"ok\""
   ]
  },
  {
   "cell_type": "markdown",
   "id": "737fef7a",
   "metadata": {
    "papermill": {
     "duration": 0.005793,
     "end_time": "2022-06-20T23:09:38.018693",
     "exception": false,
     "start_time": "2022-06-20T23:09:38.012900",
     "status": "completed"
    },
    "tags": []
   },
   "source": [
    "### d) Completing the Network"
   ]
  },
  {
   "cell_type": "code",
   "execution_count": 9,
   "id": "b1110ff6",
   "metadata": {
    "execution": {
     "iopub.execute_input": "2022-06-20T23:09:38.032773Z",
     "iopub.status.busy": "2022-06-20T23:09:38.032187Z",
     "iopub.status.idle": "2022-06-20T23:09:38.040798Z",
     "shell.execute_reply": "2022-06-20T23:09:38.039973Z"
    },
    "papermill": {
     "duration": 0.017998,
     "end_time": "2022-06-20T23:09:38.042706",
     "exception": false,
     "start_time": "2022-06-20T23:09:38.024708",
     "status": "completed"
    },
    "tags": []
   },
   "outputs": [],
   "source": [
    "class FeedForwardNet:\n",
    "    def __init__(self, layers):\n",
    "        self.layers = layers\n",
    "    \n",
    "    def forward(self, x):\n",
    "        \"\"\"Forwar pass through the entire network.\"\"\"\n",
    "        # ********************\n",
    "        # TODO Compute output\n",
    "        # x = ...\n",
    "        for layer in self.layers:\n",
    "            x=layer.forward(x)\n",
    "           \n",
    "        \n",
    "        #print(\"feed forward\",x.shape)\n",
    "        \n",
    "        # print(\"feed forward end\")\n",
    "        # ********************\n",
    "        return x\n",
    "    \n",
    "    def backward(self, gradient):\n",
    "        \"\"\"Backward pass through the entire network.\"\"\"\n",
    "        # ********************\n",
    "        # TODO Back propagate gradients through all layers\n",
    "        for layer in self.layers[::-1]:\n",
    "            gradient=layer.backward(gradient)\n",
    "            #print(\"gradient.shape feednet backward \",gradient.shape)\n",
    "            \n",
    "        \n",
    "        #print(\"feed backward end\")\n",
    "        # ********************\n",
    "\n",
    "    def train(self, x, target, learn_rate):\n",
    "        \"\"\"Train one batch.\"\"\"\n",
    "        gradient = self.forward(x) - target  # Assumes quadratic loss function\n",
    "        #print(gradient.shape,\"gradient.shape in feednet train\")\n",
    "        self.backward(gradient)  # Backprop\n",
    "        \n",
    "        # Update weights in all layers\n",
    "        #print(\"feed train start\")\n",
    "        for layer in self.layers:\n",
    "            layer.update(learn_rate)\n",
    "        #print(\"feed train complete\")\n",
    "            \n",
    "        "
   ]
  },
  {
   "cell_type": "code",
   "execution_count": null,
   "id": "e7780491",
   "metadata": {
    "papermill": {
     "duration": 0.006427,
     "end_time": "2022-06-20T23:09:38.056025",
     "exception": false,
     "start_time": "2022-06-20T23:09:38.049598",
     "status": "completed"
    },
    "tags": []
   },
   "outputs": [],
   "source": []
  },
  {
   "cell_type": "code",
   "execution_count": 10,
   "id": "62bfab69",
   "metadata": {
    "execution": {
     "iopub.execute_input": "2022-06-20T23:09:38.070776Z",
     "iopub.status.busy": "2022-06-20T23:09:38.069930Z",
     "iopub.status.idle": "2022-06-20T23:09:38.077749Z",
     "shell.execute_reply": "2022-06-20T23:09:38.077022Z"
    },
    "papermill": {
     "duration": 0.016833,
     "end_time": "2022-06-20T23:09:38.079538",
     "exception": false,
     "start_time": "2022-06-20T23:09:38.062705",
     "status": "completed"
    },
    "tags": []
   },
   "outputs": [
    {
     "data": {
      "text/plain": [
       "'ok'"
      ]
     },
     "execution_count": 10,
     "metadata": {},
     "output_type": "execute_result"
    }
   ],
   "source": [
    "# Test Code\n",
    "_test_net = FeedForwardNet([LinearLayer(4, 10, seed=0),\n",
    "                      ReLULayer(),\n",
    "                      LinearLayer(10, 3, seed=1),\n",
    "                      SoftmaxLayer(),\n",
    "                     ])\n",
    "np.testing.assert_array_almost_equal(_test_net.forward([1,2,3,4]), [0.27760362, 0.64002456, 0.08237182])\n",
    "\"ok\"\n"
   ]
  },
  {
   "cell_type": "markdown",
   "id": "37710120",
   "metadata": {
    "papermill": {
     "duration": 0.005955,
     "end_time": "2022-06-20T23:09:38.091984",
     "exception": false,
     "start_time": "2022-06-20T23:09:38.086029",
     "status": "completed"
    },
    "tags": []
   },
   "source": [
    "## Question A2 - Autoencoder on MNIST\n",
    "For more information about MNIST, refer to the assignment PDF.\n",
    "\n",
    "The next cell will download the dataset and show some examples images."
   ]
  },
  {
   "cell_type": "code",
   "execution_count": 11,
   "id": "2410cf62",
   "metadata": {
    "execution": {
     "iopub.execute_input": "2022-06-20T23:09:38.108757Z",
     "iopub.status.busy": "2022-06-20T23:09:38.108196Z",
     "iopub.status.idle": "2022-06-20T23:09:45.719371Z",
     "shell.execute_reply": "2022-06-20T23:09:45.718208Z"
    },
    "papermill": {
     "duration": 7.622003,
     "end_time": "2022-06-20T23:09:45.721311",
     "exception": false,
     "start_time": "2022-06-20T23:09:38.099308",
     "status": "completed"
    },
    "tags": []
   },
   "outputs": [
    {
     "name": "stdout",
     "output_type": "stream",
     "text": [
      "Downloading http://yann.lecun.com/exdb/mnist/train-images-idx3-ubyte.gz\n",
      "Downloading http://yann.lecun.com/exdb/mnist/train-images-idx3-ubyte.gz to data/MNIST/raw/train-images-idx3-ubyte.gz\n"
     ]
    },
    {
     "data": {
      "application/vnd.jupyter.widget-view+json": {
       "model_id": "1245550540584fc6bcc32762228624f1",
       "version_major": 2,
       "version_minor": 0
      },
      "text/plain": [
       "  0%|          | 0/9912422 [00:00<?, ?it/s]"
      ]
     },
     "metadata": {},
     "output_type": "display_data"
    },
    {
     "name": "stdout",
     "output_type": "stream",
     "text": [
      "Extracting data/MNIST/raw/train-images-idx3-ubyte.gz to data/MNIST/raw\n",
      "\n",
      "Downloading http://yann.lecun.com/exdb/mnist/train-labels-idx1-ubyte.gz\n",
      "Downloading http://yann.lecun.com/exdb/mnist/train-labels-idx1-ubyte.gz to data/MNIST/raw/train-labels-idx1-ubyte.gz\n"
     ]
    },
    {
     "data": {
      "application/vnd.jupyter.widget-view+json": {
       "model_id": "bab59d18225942718eff0453c84aca80",
       "version_major": 2,
       "version_minor": 0
      },
      "text/plain": [
       "  0%|          | 0/28881 [00:00<?, ?it/s]"
      ]
     },
     "metadata": {},
     "output_type": "display_data"
    },
    {
     "name": "stdout",
     "output_type": "stream",
     "text": [
      "Extracting data/MNIST/raw/train-labels-idx1-ubyte.gz to data/MNIST/raw\n",
      "\n",
      "Downloading http://yann.lecun.com/exdb/mnist/t10k-images-idx3-ubyte.gz\n",
      "Downloading http://yann.lecun.com/exdb/mnist/t10k-images-idx3-ubyte.gz to data/MNIST/raw/t10k-images-idx3-ubyte.gz\n"
     ]
    },
    {
     "data": {
      "application/vnd.jupyter.widget-view+json": {
       "model_id": "787bc2e5c8ba4be99028f646fef626b5",
       "version_major": 2,
       "version_minor": 0
      },
      "text/plain": [
       "  0%|          | 0/1648877 [00:00<?, ?it/s]"
      ]
     },
     "metadata": {},
     "output_type": "display_data"
    },
    {
     "name": "stdout",
     "output_type": "stream",
     "text": [
      "Extracting data/MNIST/raw/t10k-images-idx3-ubyte.gz to data/MNIST/raw\n",
      "\n",
      "Downloading http://yann.lecun.com/exdb/mnist/t10k-labels-idx1-ubyte.gz\n",
      "Downloading http://yann.lecun.com/exdb/mnist/t10k-labels-idx1-ubyte.gz to data/MNIST/raw/t10k-labels-idx1-ubyte.gz\n"
     ]
    },
    {
     "data": {
      "application/vnd.jupyter.widget-view+json": {
       "model_id": "f9c9f2edbcee4b9f8616cb4a5a7c645e",
       "version_major": 2,
       "version_minor": 0
      },
      "text/plain": [
       "  0%|          | 0/4542 [00:00<?, ?it/s]"
      ]
     },
     "metadata": {},
     "output_type": "display_data"
    },
    {
     "name": "stdout",
     "output_type": "stream",
     "text": [
      "Extracting data/MNIST/raw/t10k-labels-idx1-ubyte.gz to data/MNIST/raw\n",
      "\n"
     ]
    },
    {
     "data": {
      "image/png": "[encoded data removed]",
      "text/plain": [
       "<Figure size 1152x144 with 10 Axes>"
      ]
     },
     "metadata": {
      "needs_background": "light"
     },
     "output_type": "display_data"
    }
   ],
   "source": [
    "import torch\n",
    "import torchvision\n",
    "from torchvision import transforms\n",
    "\n",
    "# Load MNIST dataset\n",
    "mnist = torchvision.datasets.MNIST(root='data/', download=True, transform=transforms.ToTensor())\n",
    "mnist_test = np.array([x.numpy() for x, y in torchvision.datasets.MNIST(root='data/', train=False, transform=transforms.ToTensor())],dtype=np.float64).reshape(-1, 28, 28)\n",
    "data_loader = torch.utils.data.DataLoader(mnist, batch_size=32, shuffle=True)\n",
    "\n",
    "# Show examples\n",
    "plt.figure(figsize=(16,2))\n",
    "for i in range(10):\n",
    "    plt.subplot(1, 10, i+1)\n",
    "    \n",
    "    # Choose first example with the corresponding digit\n",
    "    example = next(x for x, y in mnist if y == np.random.randint(10)).reshape(28, 28)#if y == i\n",
    "    plt.imshow(example, cmap=\"gray\", vmin=0, vmax=1)\n",
    "    plt.axis(\"off\")\n",
    "plt.tight_layout()"
   ]
  },
  {
   "cell_type": "markdown",
   "id": "40cdbdfb",
   "metadata": {
    "papermill": {
     "duration": 0.007042,
     "end_time": "2022-06-20T23:09:45.736737",
     "exception": false,
     "start_time": "2022-06-20T23:09:45.729695",
     "status": "completed"
    },
    "tags": []
   },
   "source": [
    "### a) Build the Autoencoder"
   ]
  },
  {
   "cell_type": "code",
   "execution_count": 12,
   "id": "91c2c451",
   "metadata": {
    "execution": {
     "iopub.execute_input": "2022-06-20T23:09:45.753767Z",
     "iopub.status.busy": "2022-06-20T23:09:45.752902Z",
     "iopub.status.idle": "2022-06-20T23:09:45.773861Z",
     "shell.execute_reply": "2022-06-20T23:09:45.773058Z"
    },
    "papermill": {
     "duration": 0.031873,
     "end_time": "2022-06-20T23:09:45.776126",
     "exception": false,
     "start_time": "2022-06-20T23:09:45.744253",
     "status": "completed"
    },
    "tags": []
   },
   "outputs": [],
   "source": [
    "# TODO Build autoencoder\n",
    "autoencoder = FeedForwardNet([LinearLayer(784, 256, seed=10),\n",
    "                      ReLULayer(),\n",
    "                              LinearLayer(256, 64, seed=50),\n",
    "                      ReLULayer(),\n",
    "                              LinearLayer(64, 16, seed=4),\n",
    "#                      ReLULayer(),\n",
    "#                               LinearLayer(128, 64, seed=0),\n",
    "#                       ReLULayer(),\n",
    "#                               LinearLayer(64, 32, seed=0),\n",
    "#                       ReLULayer(),\n",
    "#                               LinearLayer(32, 16, seed=0),\n",
    "#                       ReLULayer(),\n",
    "#                               LinearLayer(16, 32, seed=0),\n",
    "#                       ReLULayer(),\n",
    "#                               LinearLayer(32, 64, seed=0),\n",
    "#                       ReLULayer(),\n",
    "#                               LinearLayer(64, 128, seed=0),\n",
    "#                       ReLULayer(),\n",
    "                              LinearLayer(16, 64, seed=5),\n",
    "                      ReLULayer(),\n",
    "                              LinearLayer(64, 256, seed=42),\n",
    "                      ReLULayer(),\n",
    "                              LinearLayer(256, 784, seed=31),\n",
    "                              \n",
    "                        #SoftmaxLayer(),\n",
    "                     ])\n",
    "\n",
    "\n"
   ]
  },
  {
   "cell_type": "code",
   "execution_count": 13,
   "id": "9f4a6176",
   "metadata": {
    "execution": {
     "iopub.execute_input": "2022-06-20T23:09:45.792805Z",
     "iopub.status.busy": "2022-06-20T23:09:45.792221Z",
     "iopub.status.idle": "2022-06-20T23:09:45.799431Z",
     "shell.execute_reply": "2022-06-20T23:09:45.798840Z"
    },
    "papermill": {
     "duration": 0.017398,
     "end_time": "2022-06-20T23:09:45.801074",
     "exception": false,
     "start_time": "2022-06-20T23:09:45.783676",
     "status": "completed"
    },
    "tags": []
   },
   "outputs": [
    {
     "data": {
      "text/plain": [
       "'ok'"
      ]
     },
     "execution_count": 13,
     "metadata": {},
     "output_type": "execute_result"
    }
   ],
   "source": [
    "# Test Code\n",
    "assert all(type(l) in [LinearLayer, ReLULayer] for l in autoencoder.layers), \"Only use Linear and ReLu layers\"\n",
    "assert autoencoder.layers[0].w.shape[0] == 784, \"Wrong size of input\"\n",
    "assert autoencoder.layers[-1].w.shape[1] == 784, \"Wrong size of output\"\n",
    "assert min(l.w.shape[0] for l in autoencoder.layers if type(l) == LinearLayer) == 16, \"Wrong size of the bottleneck\"\n",
    "\n",
    "\"ok\""
   ]
  },
  {
   "cell_type": "markdown",
   "id": "9f064841",
   "metadata": {
    "papermill": {
     "duration": 0.006993,
     "end_time": "2022-06-20T23:09:45.815507",
     "exception": false,
     "start_time": "2022-06-20T23:09:45.808514",
     "status": "completed"
    },
    "tags": []
   },
   "source": [
    "### b) Train the Autoencoder\n",
    "\n",
    "The next step is to train the autoencoder on the MNIST dataset via minibatch gradient descend.\n",
    "\n",
    "Implement the training of a batch. \n",
    "The incoming batches of images have a shape of (batch_size, 28, 28). To process them in a linear layer, you first need to reshape them to (batch_size, 28 * 28).\n",
    "Then, use the `train` method of the implemented `FeedForwardNetwork` to train the batch."
   ]
  },
  {
   "cell_type": "code",
   "execution_count": 14,
   "id": "46724c20",
   "metadata": {
    "execution": {
     "iopub.execute_input": "2022-06-20T23:09:45.832162Z",
     "iopub.status.busy": "2022-06-20T23:09:45.831372Z",
     "iopub.status.idle": "2022-06-20T23:10:08.780352Z",
     "shell.execute_reply": "2022-06-20T23:10:08.778906Z"
    },
    "papermill": {
     "duration": 22.959837,
     "end_time": "2022-06-20T23:10:08.782605",
     "exception": false,
     "start_time": "2022-06-20T23:09:45.822768",
     "status": "completed"
    },
    "tags": []
   },
   "outputs": [
    {
     "name": "stdout",
     "output_type": "stream",
     "text": [
      "1875\n"
     ]
    },
    {
     "data": {
      "application/vnd.jupyter.widget-view+json": {
       "model_id": "736d1ea01f1c4a198c155eec603bb08c",
       "version_major": 2,
       "version_minor": 0
      },
      "text/plain": [
       "  0%|          | 0/1 [00:00<?, ?it/s]"
      ]
     },
     "metadata": {},
     "output_type": "display_data"
    },
    {
     "data": {
      "image/png": "[encoded data removed]",
      "text/plain": [
       "<Figure size 432x288 with 1 Axes>"
      ]
     },
     "metadata": {
      "needs_background": "light"
     },
     "output_type": "display_data"
    }
   ],
   "source": [
    "epochs = 1\n",
    "print(len(data_loader))\n",
    "losses = np.empty((epochs, 2))\n",
    "with tqdm(range(epochs)) as pbar:\n",
    "    for epoch in pbar:\n",
    "        running_loss = 0.0\n",
    "        for batch, _ in data_loader:\n",
    "            # ********************\n",
    "            # TODO Reshape and train batch\n",
    "            #print(batch.shape)\n",
    "            batch_size=batch.shape[0]\n",
    "            batch = batch.reshape(batch_size, 28 * 28)\n",
    "            batch=batch.numpy()\n",
    "            #print(batch.shape)\n",
    "            autoencoder.train(batch,batch,0.0001)\n",
    "            \n",
    "#             for minibatch in batch:\n",
    "#                 minibatch=minibatch.reshape(1,28*28)\n",
    "#                 autoencoder.train(minibatch,minibatch,0.001)\n",
    "#                 running_loss += np.sum((autoencoder.layers[-1].output - minibatch)**2)\n",
    "#                 pass\n",
    "            \n",
    "            \n",
    "            # ********************\n",
    "\n",
    "            running_loss += np.sum((autoencoder.layers[-1].output - batch)**2)\n",
    "        \n",
    "        # Log losses and update progress bar\n",
    "        train_loss = running_loss/len(mnist)\n",
    "        validation_loss = np.sum(np.mean((autoencoder.forward(mnist_test.reshape(-1, 28*28))-mnist_test.reshape(-1, 28*28))**2, axis=0))\n",
    "        losses[epoch] = [train_loss, validation_loss]\n",
    "        pbar.set_description(f\"Loss {train_loss:.02f}/{validation_loss:.02f}\")\n",
    "\n",
    "# Save model\n",
    "with open(\"solution/a2b.pickle\", \"wb\") as f:\n",
    "    pickle.dump(autoencoder, f)\n",
    "\n",
    "# Visualize losses\n",
    "losses = np.array(losses)\n",
    "plt.plot(np.arange(len(losses)), losses[:,0], label=\"train\")\n",
    "plt.plot(np.arange(len(losses)), losses[:,1], label=\"validation\")\n",
    "plt.legend()\n",
    "plt.xlabel(\"epoch\")\n",
    "plt.ylabel(\"MSE\")\n",
    "plt.tight_layout()\n",
    "plt.savefig(\"solution/a2b-train.png\")"
   ]
  },
  {
   "cell_type": "code",
   "execution_count": 15,
   "id": "4aed09f9",
   "metadata": {
    "execution": {
     "iopub.execute_input": "2022-06-20T23:10:08.800490Z",
     "iopub.status.busy": "2022-06-20T23:10:08.799666Z",
     "iopub.status.idle": "2022-06-20T23:10:10.501754Z",
     "shell.execute_reply": "2022-06-20T23:10:10.500860Z"
    },
    "papermill": {
     "duration": 1.71333,
     "end_time": "2022-06-20T23:10:10.504058",
     "exception": false,
     "start_time": "2022-06-20T23:10:08.790728",
     "status": "completed"
    },
    "tags": []
   },
   "outputs": [
    {
     "data": {
      "image/png": "[encoded data removed]",
      "text/plain": [
       "<Figure size 864x432 with 32 Axes>"
      ]
     },
     "metadata": {
      "needs_background": "light"
     },
     "output_type": "display_data"
    }
   ],
   "source": [
    "# Show reconstruction\n",
    "plt.figure(figsize=(12,6))\n",
    "for i in range(16):\n",
    "    # Show image\n",
    "    plt.subplot(4,8,2*i+1)\n",
    "    plt.imshow(mnist[i][0].reshape((28,28)), cmap=\"gray\")\n",
    "    plt.axis(\"off\")\n",
    "\n",
    "    # Show reconstruction\n",
    "    plt.subplot(4,8, 2*i+2)\n",
    "    plt.imshow(autoencoder.forward(mnist[i][0].reshape(28*28)).reshape(28,28), cmap=\"gray\", vmin=0, vmax=1)\n",
    "    plt.axis(\"off\")\n",
    "plt.tight_layout()\n",
    "plt.savefig(\"solution/a2b-rec.png\")"
   ]
  },
  {
   "cell_type": "markdown",
   "id": "8f10c744",
   "metadata": {
    "papermill": {
     "duration": 0.008637,
     "end_time": "2022-06-20T23:10:10.521115",
     "exception": false,
     "start_time": "2022-06-20T23:10:10.512478",
     "status": "completed"
    },
    "tags": []
   },
   "source": [
    "### c) Interpolation"
   ]
  },
  {
   "cell_type": "code",
   "execution_count": 16,
   "id": "4585acf8",
   "metadata": {
    "execution": {
     "iopub.execute_input": "2022-06-20T23:10:10.539282Z",
     "iopub.status.busy": "2022-06-20T23:10:10.538922Z",
     "iopub.status.idle": "2022-06-20T23:10:11.295617Z",
     "shell.execute_reply": "2022-06-20T23:10:11.294776Z"
    },
    "papermill": {
     "duration": 0.768186,
     "end_time": "2022-06-20T23:10:11.297564",
     "exception": false,
     "start_time": "2022-06-20T23:10:10.529378",
     "status": "completed"
    },
    "tags": []
   },
   "outputs": [
    {
     "name": "stdout",
     "output_type": "stream",
     "text": [
      "torch.Size([16])\n"
     ]
    },
    {
     "data": {
      "image/png": "[encoded data removed]",
      "text/plain": [
       "<Figure size 1152x144 with 10 Axes>"
      ]
     },
     "metadata": {
      "needs_background": "light"
     },
     "output_type": "display_data"
    }
   ],
   "source": [
    "# ********************\n",
    "# TODO Split the autoencoder at the bottleneck into encoder and decoder \n",
    "encoder = FeedForwardNet(autoencoder.layers[:len(autoencoder.layers)//2])\n",
    "decoder = FeedForwardNet(autoencoder.layers[len(autoencoder.layers)//2:])\n",
    "\n",
    "\n",
    "\n",
    "# ********************\n",
    "\n",
    "#  Choose two images \n",
    "temp1,temp2=np.random.randint(0,mnist.data.shape[0],size=2)\n",
    "image_a = mnist[temp1][0]\n",
    "image_b = mnist[temp2][0]\n",
    "\n",
    "# Compute their latent representations\n",
    "latent_a = encoder.forward(image_a.reshape(28*28))\n",
    "latent_b = encoder.forward(image_b.reshape(28*28))\n",
    "print(latent_a.shape)\n",
    "\n",
    "steps=10\n",
    "plt.figure(figsize=(16,2))\n",
    "for i, f in enumerate(np.linspace(0, 1, steps)):\n",
    "    plt.subplot(1, steps, i+1)\n",
    "    \n",
    "    # ********************\n",
    "    # TODO Interpolate between latent_a and latent_b with the mixing factor f\n",
    "    latent =(1-f)*latent_a +f*latent_b\n",
    "\n",
    "\n",
    "\n",
    "    # ********************\n",
    "    \n",
    "    plt.imshow(decoder.forward(latent).reshape(28, 28), cmap=\"gray\", vmin=0, vmax=1)\n",
    "    plt.axis(\"off\")\n",
    "plt.tight_layout()\n",
    "plt.savefig(\"solution/a2c.png\")"
   ]
  },
  {
   "cell_type": "code",
   "execution_count": null,
   "id": "e6200e40",
   "metadata": {
    "execution": {
     "iopub.execute_input": "2022-06-20T22:53:48.813058Z",
     "iopub.status.busy": "2022-06-20T22:53:48.812124Z",
     "iopub.status.idle": "2022-06-20T22:53:48.817922Z",
     "shell.execute_reply": "2022-06-20T22:53:48.817054Z",
     "shell.execute_reply.started": "2022-06-20T22:53:48.813015Z"
    },
    "papermill": {
     "duration": 0.0088,
     "end_time": "2022-06-20T23:10:11.315102",
     "exception": false,
     "start_time": "2022-06-20T23:10:11.306302",
     "status": "completed"
    },
    "tags": []
   },
   "outputs": [],
   "source": []
  },
  {
   "cell_type": "markdown",
   "id": "284c988b",
   "metadata": {
    "papermill": {
     "duration": 0.008252,
     "end_time": "2022-06-20T23:10:11.332160",
     "exception": false,
     "start_time": "2022-06-20T23:10:11.323908",
     "status": "completed"
    },
    "tags": []
   },
   "source": [
    "### d) Latent space sampling"
   ]
  },
  {
   "cell_type": "code",
   "execution_count": 17,
   "id": "43575231",
   "metadata": {
    "execution": {
     "iopub.execute_input": "2022-06-20T23:10:11.351543Z",
     "iopub.status.busy": "2022-06-20T23:10:11.351159Z",
     "iopub.status.idle": "2022-06-20T23:10:12.071606Z",
     "shell.execute_reply": "2022-06-20T23:10:12.070920Z"
    },
    "papermill": {
     "duration": 0.7328,
     "end_time": "2022-06-20T23:10:12.073846",
     "exception": false,
     "start_time": "2022-06-20T23:10:11.341046",
     "status": "completed"
    },
    "tags": []
   },
   "outputs": [
    {
     "data": {
      "image/png": "[encoded data removed]",
      "text/plain": [
       "<Figure size 1152x144 with 10 Axes>"
      ]
     },
     "metadata": {
      "needs_background": "light"
     },
     "output_type": "display_data"
    }
   ],
   "source": [
    "# Compute mean and std of latent states\n",
    "latent_space = encoder.forward(mnist_test.reshape(-1, 28*28))\n",
    "latent_space_mean = np.mean(latent_space, axis=0)\n",
    "latent_space_std = np.std(latent_space, axis=0)\n",
    "\n",
    "# Sample from latent distribution\n",
    "plt.figure(figsize=(16,2))\n",
    "for i, f in enumerate(np.linspace(0,1,steps)):\n",
    "    plt.subplot(1, steps, i+1)\n",
    "    \n",
    "    # ********************\n",
    "    # TODO Sample from the normal distribution with latent_space_mean and latent_space_std\n",
    "    latent =  np.random.normal(latent_space_mean, latent_space_std, latent_space.shape[1])\n",
    "\n",
    "\n",
    "\n",
    "    # ********************\n",
    "    \n",
    "    plt.imshow(decoder.forward(latent).reshape(28, 28), cmap=\"gray\", vmin=0, vmax=1)\n",
    "    plt.axis(\"off\")\n",
    "plt.tight_layout()\n",
    "plt.savefig(\"solution/a2d.png\")"
   ]
  },
  {
   "cell_type": "code",
   "execution_count": null,
   "id": "86c995b9",
   "metadata": {
    "papermill": {
     "duration": 0.012377,
     "end_time": "2022-06-20T23:10:12.096828",
     "exception": false,
     "start_time": "2022-06-20T23:10:12.084451",
     "status": "completed"
    },
    "tags": []
   },
   "outputs": [],
   "source": []
  }
 ],
 "metadata": {
  "kernelspec": {
   "display_name": "Python 3",
   "language": "python",
   "name": "python3"
  },
  "language_info": {
   "codemirror_mode": {
    "name": "ipython",
    "version": 3
   },
   "file_extension": ".py",
   "mimetype": "text/x-python",
   "name": "python",
   "nbconvert_exporter": "python",
   "pygments_lexer": "ipython3",
   "version": "3.7.12"
  },
  "papermill": {
   "default_parameters": {},
   "duration": 43.897644,
   "end_time": "2022-06-20T23:10:12.933681",
   "environment_variables": {},
   "exception": null,
   "input_path": "__notebook__.ipynb",
   "output_path": "__notebook__.ipynb",
   "parameters": {},
   "start_time": "2022-06-20T23:09:29.036037",
   "version": "2.3.4"
  },
  "widgets": {
   "application/vnd.jupyter.widget-state+json": {
    "state": {
     "075ac1e201cc46db99c76dfc958c0b32": {
      "model_module": "@jupyter-widgets/base",
      "model_module_version": "1.2.0",
      "model_name": "LayoutModel",
      "state": {
       "_model_module": "@jupyter-widgets/base",
       "_model_module_version": "1.2.0",
       "_model_name": "LayoutModel",
       "_view_count": null,
       "_view_module": "@jupyter-widgets/base",
       "_view_module_version": "1.2.0",
       "_view_name": "LayoutView",
       "align_content": null,
       "align_items": null,
       "align_self": null,
       "border": null,
       "bottom": null,
       "display": null,
       "flex": null,
       "flex_flow": null,
       "grid_area": null,
       "grid_auto_columns": null,
       "grid_auto_flow": null,
       "grid_auto_rows": null,
       "grid_column": null,
       "grid_gap": null,
       "grid_row": null,
       "grid_template_areas": null,
       "grid_template_columns": null,
       "grid_template_rows": null,
       "height": null,
       "justify_content": null,
       "justify_items": null,
       "left": null,
       "margin": null,
       "max_height": null,
       "max_width": null,
       "min_height": null,
       "min_width": null,
       "object_fit": null,
       "object_position": null,
       "order": null,
       "overflow": null,
       "overflow_x": null,
       "overflow_y": null,
       "padding": null,
       "right": null,
       "top": null,
       "visibility": null,
       "width": null
      }
     },
     "1245550540584fc6bcc32762228624f1": {
      "model_module": "@jupyter-widgets/controls",
      "model_module_version": "1.5.0",
      "model_name": "HBoxModel",
      "state": {
       "_dom_classes": [],
       "_model_module": "@jupyter-widgets/controls",
       "_model_module_version": "1.5.0",
       "_model_name": "HBoxModel",
       "_view_count": null,
       "_view_module": "@jupyter-widgets/controls",
       "_view_module_version": "1.5.0",
       "_view_name": "HBoxView",
       "box_style": "",
       "children": [
        "IPY_MODEL_58ba4a4090714f3aa1b6d76060923d50",
        "IPY_MODEL_fc97f46d7c2143cda877309a925f9639",
        "IPY_MODEL_f5d60fa6a02b470abb5fe2037d9a0863"
       ],
       "layout": "IPY_MODEL_1ca2e183e62a4c359d7af2f188712f8e"
      }
     },
     "126cf4541a9b416aa3ee372b626e192e": {
      "model_module": "@jupyter-widgets/base",
      "model_module_version": "1.2.0",
      "model_name": "LayoutModel",
      "state": {
       "_model_module": "@jupyter-widgets/base",
       "_model_module_version": "1.2.0",
       "_model_name": "LayoutModel",
       "_view_count": null,
       "_view_module": "@jupyter-widgets/base",
       "_view_module_version": "1.2.0",
       "_view_name": "LayoutView",
       "align_content": null,
       "align_items": null,
       "align_self": null,
       "border": null,
       "bottom": null,
       "display": null,
       "flex": null,
       "flex_flow": null,
       "grid_area": null,
       "grid_auto_columns": null,
       "grid_auto_flow": null,
       "grid_auto_rows": null,
       "grid_column": null,
       "grid_gap": null,
       "grid_row": null,
       "grid_template_areas": null,
       "grid_template_columns": null,
       "grid_template_rows": null,
       "height": null,
       "justify_content": null,
       "justify_items": null,
       "left": null,
       "margin": null,
       "max_height": null,
       "max_width": null,
       "min_height": null,
       "min_width": null,
       "object_fit": null,
       "object_position": null,
       "order": null,
       "overflow": null,
       "overflow_x": null,
       "overflow_y": null,
       "padding": null,
       "right": null,
       "top": null,
       "visibility": null,
       "width": null
      }
     },
     "144575ad64d24652aea1e8e0120d7118": {
      "model_module": "@jupyter-widgets/base",
      "model_module_version": "1.2.0",
      "model_name": "LayoutModel",
      "state": {
       "_model_module": "@jupyter-widgets/base",
       "_model_module_version": "1.2.0",
       "_model_name": "LayoutModel",
       "_view_count": null,
       "_view_module": "@jupyter-widgets/base",
       "_view_module_version": "1.2.0",
       "_view_name": "LayoutView",
       "align_content": null,
       "align_items": null,
       "align_self": null,
       "border": null,
       "bottom": null,
       "display": null,
       "flex": null,
       "flex_flow": null,
       "grid_area": null,
       "grid_auto_columns": null,
       "grid_auto_flow": null,
       "grid_auto_rows": null,
       "grid_column": null,
       "grid_gap": null,
       "grid_row": null,
       "grid_template_areas": null,
       "grid_template_columns": null,
       "grid_template_rows": null,
       "height": null,
       "justify_content": null,
       "justify_items": null,
       "left": null,
       "margin": null,
       "max_height": null,
       "max_width": null,
       "min_height": null,
       "min_width": null,
       "object_fit": null,
       "object_position": null,
       "order": null,
       "overflow": null,
       "overflow_x": null,
       "overflow_y": null,
       "padding": null,
       "right": null,
       "top": null,
       "visibility": null,
       "width": null
      }
     },
     "14a83e33b9f9453c8b20bf8f239b0521": {
      "model_module": "@jupyter-widgets/controls",
      "model_module_version": "1.5.0",
      "model_name": "DescriptionStyleModel",
      "state": {
       "_model_module": "@jupyter-widgets/controls",
       "_model_module_version": "1.5.0",
       "_model_name": "DescriptionStyleModel",
       "_view_count": null,
       "_view_module": "@jupyter-widgets/base",
       "_view_module_version": "1.2.0",
       "_view_name": "StyleView",
       "description_width": ""
      }
     },
     "173b8693c9ba46d38e02e794069902fb": {
      "model_module": "@jupyter-widgets/controls",
      "model_module_version": "1.5.0",
      "model_name": "HTMLModel",
      "state": {
       "_dom_classes": [],
       "_model_module": "@jupyter-widgets/controls",
       "_model_module_version": "1.5.0",
       "_model_name": "HTMLModel",
       "_view_count": null,
       "_view_module": "@jupyter-widgets/controls",
       "_view_module_version": "1.5.0",
       "_view_name": "HTMLView",
       "description": "",
       "description_tooltip": null,
       "layout": "IPY_MODEL_126cf4541a9b416aa3ee372b626e192e",
       "placeholder": "​",
       "style": "IPY_MODEL_7b3976db84bc4474856a2e3e10fae317",
       "value": ""
      }
     },
     "1ca2e183e62a4c359d7af2f188712f8e": {
      "model_module": "@jupyter-widgets/base",
      "model_module_version": "1.2.0",
      "model_name": "LayoutModel",
      "state": {
       "_model_module": "@jupyter-widgets/base",
       "_model_module_version": "1.2.0",
       "_model_name": "LayoutModel",
       "_view_count": null,
       "_view_module": "@jupyter-widgets/base",
       "_view_module_version": "1.2.0",
       "_view_name": "LayoutView",
       "align_content": null,
       "align_items": null,
       "align_self": null,
       "border": null,
       "bottom": null,
       "display": null,
       "flex": null,
       "flex_flow": null,
       "grid_area": null,
       "grid_auto_columns": null,
       "grid_auto_flow": null,
       "grid_auto_rows": null,
       "grid_column": null,
       "grid_gap": null,
       "grid_row": null,
       "grid_template_areas": null,
       "grid_template_columns": null,
       "grid_template_rows": null,
       "height": null,
       "justify_content": null,
       "justify_items": null,
       "left": null,
       "margin": null,
       "max_height": null,
       "max_width": null,
       "min_height": null,
       "min_width": null,
       "object_fit": null,
       "object_position": null,
       "order": null,
       "overflow": null,
       "overflow_x": null,
       "overflow_y": null,
       "padding": null,
       "right": null,
       "top": null,
       "visibility": null,
       "width": null
      }
     },
     "1f49a4b85a584d128af46d83d3bc6a6e": {
      "model_module": "@jupyter-widgets/controls",
      "model_module_version": "1.5.0",
      "model_name": "DescriptionStyleModel",
      "state": {
       "_model_module": "@jupyter-widgets/controls",
       "_model_module_version": "1.5.0",
       "_model_name": "DescriptionStyleModel",
       "_view_count": null,
       "_view_module": "@jupyter-widgets/base",
       "_view_module_version": "1.2.0",
       "_view_name": "StyleView",
       "description_width": ""
      }
     },
     "221d62a991f04fbba604058397d1b930": {
      "model_module": "@jupyter-widgets/base",
      "model_module_version": "1.2.0",
      "model_name": "LayoutModel",
      "state": {
       "_model_module": "@jupyter-widgets/base",
       "_model_module_version": "1.2.0",
       "_model_name": "LayoutModel",
       "_view_count": null,
       "_view_module": "@jupyter-widgets/base",
       "_view_module_version": "1.2.0",
       "_view_name": "LayoutView",
       "align_content": null,
       "align_items": null,
       "align_self": null,
       "border": null,
       "bottom": null,
       "display": null,
       "flex": null,
       "flex_flow": null,
       "grid_area": null,
       "grid_auto_columns": null,
       "grid_auto_flow": null,
       "grid_auto_rows": null,
       "grid_column": null,
       "grid_gap": null,
       "grid_row": null,
       "grid_template_areas": null,
       "grid_template_columns": null,
       "grid_template_rows": null,
       "height": null,
       "justify_content": null,
       "justify_items": null,
       "left": null,
       "margin": null,
       "max_height": null,
       "max_width": null,
       "min_height": null,
       "min_width": null,
       "object_fit": null,
       "object_position": null,
       "order": null,
       "overflow": null,
       "overflow_x": null,
       "overflow_y": null,
       "padding": null,
       "right": null,
       "top": null,
       "visibility": null,
       "width": null
      }
     },
     "245958028b3e40c7a0bf50584f1787df": {
      "model_module": "@jupyter-widgets/base",
      "model_module_version": "1.2.0",
      "model_name": "LayoutModel",
      "state": {
       "_model_module": "@jupyter-widgets/base",
       "_model_module_version": "1.2.0",
       "_model_name": "LayoutModel",
       "_view_count": null,
       "_view_module": "@jupyter-widgets/base",
       "_view_module_version": "1.2.0",
       "_view_name": "LayoutView",
       "align_content": null,
       "align_items": null,
       "align_self": null,
       "border": null,
       "bottom": null,
       "display": null,
       "flex": null,
       "flex_flow": null,
       "grid_area": null,
       "grid_auto_columns": null,
       "grid_auto_flow": null,
       "grid_auto_rows": null,
       "grid_column": null,
       "grid_gap": null,
       "grid_row": null,
       "grid_template_areas": null,
       "grid_template_columns": null,
       "grid_template_rows": null,
       "height": null,
       "justify_content": null,
       "justify_items": null,
       "left": null,
       "margin": null,
       "max_height": null,
       "max_width": null,
       "min_height": null,
       "min_width": null,
       "object_fit": null,
       "object_position": null,
       "order": null,
       "overflow": null,
       "overflow_x": null,
       "overflow_y": null,
       "padding": null,
       "right": null,
       "top": null,
       "visibility": null,
       "width": null
      }
     },
     "290e63c565d7461da69f8935f69296a0": {
      "model_module": "@jupyter-widgets/controls",
      "model_module_version": "1.5.0",
      "model_name": "DescriptionStyleModel",
      "state": {
       "_model_module": "@jupyter-widgets/controls",
       "_model_module_version": "1.5.0",
       "_model_name": "DescriptionStyleModel",
       "_view_count": null,
       "_view_module": "@jupyter-widgets/base",
       "_view_module_version": "1.2.0",
       "_view_name": "StyleView",
       "description_width": ""
      }
     },
     "2a7f1189e3694bb79a141f3f6f8b3212": {
      "model_module": "@jupyter-widgets/base",
      "model_module_version": "1.2.0",
      "model_name": "LayoutModel",
      "state": {
       "_model_module": "@jupyter-widgets/base",
       "_model_module_version": "1.2.0",
       "_model_name": "LayoutModel",
       "_view_count": null,
       "_view_module": "@jupyter-widgets/base",
       "_view_module_version": "1.2.0",
       "_view_name": "LayoutView",
       "align_content": null,
       "align_items": null,
       "align_self": null,
       "border": null,
       "bottom": null,
       "display": null,
       "flex": null,
       "flex_flow": null,
       "grid_area": null,
       "grid_auto_columns": null,
       "grid_auto_flow": null,
       "grid_auto_rows": null,
       "grid_column": null,
       "grid_gap": null,
       "grid_row": null,
       "grid_template_areas": null,
       "grid_template_columns": null,
       "grid_template_rows": null,
       "height": null,
       "justify_content": null,
       "justify_items": null,
       "left": null,
       "margin": null,
       "max_height": null,
       "max_width": null,
       "min_height": null,
       "min_width": null,
       "object_fit": null,
       "object_position": null,
       "order": null,
       "overflow": null,
       "overflow_x": null,
       "overflow_y": null,
       "padding": null,
       "right": null,
       "top": null,
       "visibility": null,
       "width": null
      }
     },
     "3e3b1d4388774cc29d19605bec98558e": {
      "model_module": "@jupyter-widgets/controls",
      "model_module_version": "1.5.0",
      "model_name": "FloatProgressModel",
      "state": {
       "_dom_classes": [],
       "_model_module": "@jupyter-widgets/controls",
       "_model_module_version": "1.5.0",
       "_model_name": "FloatProgressModel",
       "_view_count": null,
       "_view_module": "@jupyter-widgets/controls",
       "_view_module_version": "1.5.0",
       "_view_name": "ProgressView",
       "bar_style": "success",
       "description": "",
       "description_tooltip": null,
       "layout": "IPY_MODEL_221d62a991f04fbba604058397d1b930",
       "max": 28881.0,
       "min": 0.0,
       "orientation": "horizontal",
       "style": "IPY_MODEL_962e8627eaba4875aa90eb0dd7a418a7",
       "value": 28881.0
      }
     },
     "4002fd7e51b347729423e086152f34a5": {
      "model_module": "@jupyter-widgets/base",
      "model_module_version": "1.2.0",
      "model_name": "LayoutModel",
      "state": {
       "_model_module": "@jupyter-widgets/base",
       "_model_module_version": "1.2.0",
       "_model_name": "LayoutModel",
       "_view_count": null,
       "_view_module": "@jupyter-widgets/base",
       "_view_module_version": "1.2.0",
       "_view_name": "LayoutView",
       "align_content": null,
       "align_items": null,
       "align_self": null,
       "border": null,
       "bottom": null,
       "display": null,
       "flex": null,
       "flex_flow": null,
       "grid_area": null,
       "grid_auto_columns": null,
       "grid_auto_flow": null,
       "grid_auto_rows": null,
       "grid_column": null,
       "grid_gap": null,
       "grid_row": null,
       "grid_template_areas": null,
       "grid_template_columns": null,
       "grid_template_rows": null,
       "height": null,
       "justify_content": null,
       "justify_items": null,
       "left": null,
       "margin": null,
       "max_height": null,
       "max_width": null,
       "min_height": null,
       "min_width": null,
       "object_fit": null,
       "object_position": null,
       "order": null,
       "overflow": null,
       "overflow_x": null,
       "overflow_y": null,
       "padding": null,
       "right": null,
       "top": null,
       "visibility": null,
       "width": null
      }
     },
     "409700774718451294da21227abf2f96": {
      "model_module": "@jupyter-widgets/controls",
      "model_module_version": "1.5.0",
      "model_name": "FloatProgressModel",
      "state": {
       "_dom_classes": [],
       "_model_module": "@jupyter-widgets/controls",
       "_model_module_version": "1.5.0",
       "_model_name": "FloatProgressModel",
       "_view_count": null,
       "_view_module": "@jupyter-widgets/controls",
       "_view_module_version": "1.5.0",
       "_view_name": "ProgressView",
       "bar_style": "success",
       "description": "",
       "description_tooltip": null,
       "layout": "IPY_MODEL_fe71ed43bf9644a28712e4287447c802",
       "max": 1.0,
       "min": 0.0,
       "orientation": "horizontal",
       "style": "IPY_MODEL_5f5b72f6447242b583129df15319a7b4",
       "value": 1.0
      }
     },
     "528c3975a5f14c24a51228aef8602f07": {
      "model_module": "@jupyter-widgets/controls",
      "model_module_version": "1.5.0",
      "model_name": "FloatProgressModel",
      "state": {
       "_dom_classes": [],
       "_model_module": "@jupyter-widgets/controls",
       "_model_module_version": "1.5.0",
       "_model_name": "FloatProgressModel",
       "_view_count": null,
       "_view_module": "@jupyter-widgets/controls",
       "_view_module_version": "1.5.0",
       "_view_name": "ProgressView",
       "bar_style": "success",
       "description": "",
       "description_tooltip": null,
       "layout": "IPY_MODEL_f0b9919a6d1f4b62a777ffce32be9426",
       "max": 4542.0,
       "min": 0.0,
       "orientation": "horizontal",
       "style": "IPY_MODEL_f1c0b69be63c491cba5589bf9d2232d4",
       "value": 4542.0
      }
     },
     "58ba4a4090714f3aa1b6d76060923d50": {
      "model_module": "@jupyter-widgets/controls",
      "model_module_version": "1.5.0",
      "model_name": "HTMLModel",
      "state": {
       "_dom_classes": [],
       "_model_module": "@jupyter-widgets/controls",
       "_model_module_version": "1.5.0",
       "_model_name": "HTMLModel",
       "_view_count": null,
       "_view_module": "@jupyter-widgets/controls",
       "_view_module_version": "1.5.0",
       "_view_name": "HTMLView",
       "description": "",
       "description_tooltip": null,
       "layout": "IPY_MODEL_2a7f1189e3694bb79a141f3f6f8b3212",
       "placeholder": "​",
       "style": "IPY_MODEL_14a83e33b9f9453c8b20bf8f239b0521",
       "value": ""
      }
     },
     "59bb85f82d054f648b28f212f3ce14f3": {
      "model_module": "@jupyter-widgets/base",
      "model_module_version": "1.2.0",
      "model_name": "LayoutModel",
      "state": {
       "_model_module": "@jupyter-widgets/base",
       "_model_module_version": "1.2.0",
       "_model_name": "LayoutModel",
       "_view_count": null,
       "_view_module": "@jupyter-widgets/base",
       "_view_module_version": "1.2.0",
       "_view_name": "LayoutView",
       "align_content": null,
       "align_items": null,
       "align_self": null,
       "border": null,
       "bottom": null,
       "display": null,
       "flex": null,
       "flex_flow": null,
       "grid_area": null,
       "grid_auto_columns": null,
       "grid_auto_flow": null,
       "grid_auto_rows": null,
       "grid_column": null,
       "grid_gap": null,
       "grid_row": null,
       "grid_template_areas": null,
       "grid_template_columns": null,
       "grid_template_rows": null,
       "height": null,
       "justify_content": null,
       "justify_items": null,
       "left": null,
       "margin": null,
       "max_height": null,
       "max_width": null,
       "min_height": null,
       "min_width": null,
       "object_fit": null,
       "object_position": null,
       "order": null,
       "overflow": null,
       "overflow_x": null,
       "overflow_y": null,
       "padding": null,
       "right": null,
       "top": null,
       "visibility": null,
       "width": null
      }
     },
     "5f5b72f6447242b583129df15319a7b4": {
      "model_module": "@jupyter-widgets/controls",
      "model_module_version": "1.5.0",
      "model_name": "ProgressStyleModel",
      "state": {
       "_model_module": "@jupyter-widgets/controls",
       "_model_module_version": "1.5.0",
       "_model_name": "ProgressStyleModel",
       "_view_count": null,
       "_view_module": "@jupyter-widgets/base",
       "_view_module_version": "1.2.0",
       "_view_name": "StyleView",
       "bar_color": null,
       "description_width": ""
      }
     },
     "6760d5094fb64ea6b03d6fb7c8d9615b": {
      "model_module": "@jupyter-widgets/controls",
      "model_module_version": "1.5.0",
      "model_name": "DescriptionStyleModel",
      "state": {
       "_model_module": "@jupyter-widgets/controls",
       "_model_module_version": "1.5.0",
       "_model_name": "DescriptionStyleModel",
       "_view_count": null,
       "_view_module": "@jupyter-widgets/base",
       "_view_module_version": "1.2.0",
       "_view_name": "StyleView",
       "description_width": ""
      }
     },
     "67d385119df449b39c5b5c06cfd3aecb": {
      "model_module": "@jupyter-widgets/controls",
      "model_module_version": "1.5.0",
      "model_name": "DescriptionStyleModel",
      "state": {
       "_model_module": "@jupyter-widgets/controls",
       "_model_module_version": "1.5.0",
       "_model_name": "DescriptionStyleModel",
       "_view_count": null,
       "_view_module": "@jupyter-widgets/base",
       "_view_module_version": "1.2.0",
       "_view_name": "StyleView",
       "description_width": ""
      }
     },
     "68bcc0087e8f43fb8b00fa8e1c5c2fe3": {
      "model_module": "@jupyter-widgets/controls",
      "model_module_version": "1.5.0",
      "model_name": "DescriptionStyleModel",
      "state": {
       "_model_module": "@jupyter-widgets/controls",
       "_model_module_version": "1.5.0",
       "_model_name": "DescriptionStyleModel",
       "_view_count": null,
       "_view_module": "@jupyter-widgets/base",
       "_view_module_version": "1.2.0",
       "_view_name": "StyleView",
       "description_width": ""
      }
     },
     "6e1157acc89e47e882921f5f020ea904": {
      "model_module": "@jupyter-widgets/base",
      "model_module_version": "1.2.0",
      "model_name": "LayoutModel",
      "state": {
       "_model_module": "@jupyter-widgets/base",
       "_model_module_version": "1.2.0",
       "_model_name": "LayoutModel",
       "_view_count": null,
       "_view_module": "@jupyter-widgets/base",
       "_view_module_version": "1.2.0",
       "_view_name": "LayoutView",
       "align_content": null,
       "align_items": null,
       "align_self": null,
       "border": null,
       "bottom": null,
       "display": null,
       "flex": null,
       "flex_flow": null,
       "grid_area": null,
       "grid_auto_columns": null,
       "grid_auto_flow": null,
       "grid_auto_rows": null,
       "grid_column": null,
       "grid_gap": null,
       "grid_row": null,
       "grid_template_areas": null,
       "grid_template_columns": null,
       "grid_template_rows": null,
       "height": null,
       "justify_content": null,
       "justify_items": null,
       "left": null,
       "margin": null,
       "max_height": null,
       "max_width": null,
       "min_height": null,
       "min_width": null,
       "object_fit": null,
       "object_position": null,
       "order": null,
       "overflow": null,
       "overflow_x": null,
       "overflow_y": null,
       "padding": null,
       "right": null,
       "top": null,
       "visibility": null,
       "width": null
      }
     },
     "736d1ea01f1c4a198c155eec603bb08c": {
      "model_module": "@jupyter-widgets/controls",
      "model_module_version": "1.5.0",
      "model_name": "HBoxModel",
      "state": {
       "_dom_classes": [],
       "_model_module": "@jupyter-widgets/controls",
       "_model_module_version": "1.5.0",
       "_model_name": "HBoxModel",
       "_view_count": null,
       "_view_module": "@jupyter-widgets/controls",
       "_view_module_version": "1.5.0",
       "_view_name": "HBoxView",
       "box_style": "",
       "children": [
        "IPY_MODEL_8c386051fda44f7582246ca26bb0f51b",
        "IPY_MODEL_409700774718451294da21227abf2f96",
        "IPY_MODEL_7b31fd7e92564530ae10f8345290ce47"
       ],
       "layout": "IPY_MODEL_f01d8b7bce5045c8a8bec25501a31afc"
      }
     },
     "787bc2e5c8ba4be99028f646fef626b5": {
      "model_module": "@jupyter-widgets/controls",
      "model_module_version": "1.5.0",
      "model_name": "HBoxModel",
      "state": {
       "_dom_classes": [],
       "_model_module": "@jupyter-widgets/controls",
       "_model_module_version": "1.5.0",
       "_model_name": "HBoxModel",
       "_view_count": null,
       "_view_module": "@jupyter-widgets/controls",
       "_view_module_version": "1.5.0",
       "_view_name": "HBoxView",
       "box_style": "",
       "children": [
        "IPY_MODEL_bb5eebd8b4a641fc92c0c7ae921f6fe6",
        "IPY_MODEL_bbc2e885e32d4a219033b573802af3d4",
        "IPY_MODEL_9cadacda9830433d9909ba6fa0d1b286"
       ],
       "layout": "IPY_MODEL_075ac1e201cc46db99c76dfc958c0b32"
      }
     },
     "7b31fd7e92564530ae10f8345290ce47": {
      "model_module": "@jupyter-widgets/controls",
      "model_module_version": "1.5.0",
      "model_name": "HTMLModel",
      "state": {
       "_dom_classes": [],
       "_model_module": "@jupyter-widgets/controls",
       "_model_module_version": "1.5.0",
       "_model_name": "HTMLModel",
       "_view_count": null,
       "_view_module": "@jupyter-widgets/controls",
       "_view_module_version": "1.5.0",
       "_view_name": "HTMLView",
       "description": "",
       "description_tooltip": null,
       "layout": "IPY_MODEL_d06b214a943c41bfbb8e85542969f020",
       "placeholder": "​",
       "style": "IPY_MODEL_68bcc0087e8f43fb8b00fa8e1c5c2fe3",
       "value": " 1/1 [00:22&lt;00:00, 22.27s/it]"
      }
     },
     "7b3976db84bc4474856a2e3e10fae317": {
      "model_module": "@jupyter-widgets/controls",
      "model_module_version": "1.5.0",
      "model_name": "DescriptionStyleModel",
      "state": {
       "_model_module": "@jupyter-widgets/controls",
       "_model_module_version": "1.5.0",
       "_model_name": "DescriptionStyleModel",
       "_view_count": null,
       "_view_module": "@jupyter-widgets/base",
       "_view_module_version": "1.2.0",
       "_view_name": "StyleView",
       "description_width": ""
      }
     },
     "809c9455d369408989450b5dd92de7b1": {
      "model_module": "@jupyter-widgets/base",
      "model_module_version": "1.2.0",
      "model_name": "LayoutModel",
      "state": {
       "_model_module": "@jupyter-widgets/base",
       "_model_module_version": "1.2.0",
       "_model_name": "LayoutModel",
       "_view_count": null,
       "_view_module": "@jupyter-widgets/base",
       "_view_module_version": "1.2.0",
       "_view_name": "LayoutView",
       "align_content": null,
       "align_items": null,
       "align_self": null,
       "border": null,
       "bottom": null,
       "display": null,
       "flex": null,
       "flex_flow": null,
       "grid_area": null,
       "grid_auto_columns": null,
       "grid_auto_flow": null,
       "grid_auto_rows": null,
       "grid_column": null,
       "grid_gap": null,
       "grid_row": null,
       "grid_template_areas": null,
       "grid_template_columns": null,
       "grid_template_rows": null,
       "height": null,
       "justify_content": null,
       "justify_items": null,
       "left": null,
       "margin": null,
       "max_height": null,
       "max_width": null,
       "min_height": null,
       "min_width": null,
       "object_fit": null,
       "object_position": null,
       "order": null,
       "overflow": null,
       "overflow_x": null,
       "overflow_y": null,
       "padding": null,
       "right": null,
       "top": null,
       "visibility": null,
       "width": null
      }
     },
     "8c386051fda44f7582246ca26bb0f51b": {
      "model_module": "@jupyter-widgets/controls",
      "model_module_version": "1.5.0",
      "model_name": "HTMLModel",
      "state": {
       "_dom_classes": [],
       "_model_module": "@jupyter-widgets/controls",
       "_model_module_version": "1.5.0",
       "_model_name": "HTMLModel",
       "_view_count": null,
       "_view_module": "@jupyter-widgets/controls",
       "_view_module_version": "1.5.0",
       "_view_name": "HTMLView",
       "description": "",
       "description_tooltip": null,
       "layout": "IPY_MODEL_4002fd7e51b347729423e086152f34a5",
       "placeholder": "​",
       "style": "IPY_MODEL_290e63c565d7461da69f8935f69296a0",
       "value": "Loss 68.17/49.85: 100%"
      }
     },
     "91567651ddbb44b892968ad873f1d06f": {
      "model_module": "@jupyter-widgets/controls",
      "model_module_version": "1.5.0",
      "model_name": "ProgressStyleModel",
      "state": {
       "_model_module": "@jupyter-widgets/controls",
       "_model_module_version": "1.5.0",
       "_model_name": "ProgressStyleModel",
       "_view_count": null,
       "_view_module": "@jupyter-widgets/base",
       "_view_module_version": "1.2.0",
       "_view_name": "StyleView",
       "bar_color": null,
       "description_width": ""
      }
     },
     "962e8627eaba4875aa90eb0dd7a418a7": {
      "model_module": "@jupyter-widgets/controls",
      "model_module_version": "1.5.0",
      "model_name": "ProgressStyleModel",
      "state": {
       "_model_module": "@jupyter-widgets/controls",
       "_model_module_version": "1.5.0",
       "_model_name": "ProgressStyleModel",
       "_view_count": null,
       "_view_module": "@jupyter-widgets/base",
       "_view_module_version": "1.2.0",
       "_view_name": "StyleView",
       "bar_color": null,
       "description_width": ""
      }
     },
     "99e6c2bb54d945e68bc4d1c8d7f1eb71": {
      "model_module": "@jupyter-widgets/controls",
      "model_module_version": "1.5.0",
      "model_name": "DescriptionStyleModel",
      "state": {
       "_model_module": "@jupyter-widgets/controls",
       "_model_module_version": "1.5.0",
       "_model_name": "DescriptionStyleModel",
       "_view_count": null,
       "_view_module": "@jupyter-widgets/base",
       "_view_module_version": "1.2.0",
       "_view_name": "StyleView",
       "description_width": ""
      }
     },
     "9cadacda9830433d9909ba6fa0d1b286": {
      "model_module": "@jupyter-widgets/controls",
      "model_module_version": "1.5.0",
      "model_name": "HTMLModel",
      "state": {
       "_dom_classes": [],
       "_model_module": "@jupyter-widgets/controls",
       "_model_module_version": "1.5.0",
       "_model_name": "HTMLModel",
       "_view_count": null,
       "_view_module": "@jupyter-widgets/controls",
       "_view_module_version": "1.5.0",
       "_view_name": "HTMLView",
       "description": "",
       "description_tooltip": null,
       "layout": "IPY_MODEL_245958028b3e40c7a0bf50584f1787df",
       "placeholder": "​",
       "style": "IPY_MODEL_a915ade7a69c450a9e41c6a4e8da7f89",
       "value": " 1649664/? [00:00&lt;00:00, 18026992.36it/s]"
      }
     },
     "a903e6d11dc046bfbe93cb7f0781d3ed": {
      "model_module": "@jupyter-widgets/base",
      "model_module_version": "1.2.0",
      "model_name": "LayoutModel",
      "state": {
       "_model_module": "@jupyter-widgets/base",
       "_model_module_version": "1.2.0",
       "_model_name": "LayoutModel",
       "_view_count": null,
       "_view_module": "@jupyter-widgets/base",
       "_view_module_version": "1.2.0",
       "_view_name": "LayoutView",
       "align_content": null,
       "align_items": null,
       "align_self": null,
       "border": null,
       "bottom": null,
       "display": null,
       "flex": null,
       "flex_flow": null,
       "grid_area": null,
       "grid_auto_columns": null,
       "grid_auto_flow": null,
       "grid_auto_rows": null,
       "grid_column": null,
       "grid_gap": null,
       "grid_row": null,
       "grid_template_areas": null,
       "grid_template_columns": null,
       "grid_template_rows": null,
       "height": null,
       "justify_content": null,
       "justify_items": null,
       "left": null,
       "margin": null,
       "max_height": null,
       "max_width": null,
       "min_height": null,
       "min_width": null,
       "object_fit": null,
       "object_position": null,
       "order": null,
       "overflow": null,
       "overflow_x": null,
       "overflow_y": null,
       "padding": null,
       "right": null,
       "top": null,
       "visibility": null,
       "width": null
      }
     },
     "a915ade7a69c450a9e41c6a4e8da7f89": {
      "model_module": "@jupyter-widgets/controls",
      "model_module_version": "1.5.0",
      "model_name": "DescriptionStyleModel",
      "state": {
       "_model_module": "@jupyter-widgets/controls",
       "_model_module_version": "1.5.0",
       "_model_name": "DescriptionStyleModel",
       "_view_count": null,
       "_view_module": "@jupyter-widgets/base",
       "_view_module_version": "1.2.0",
       "_view_name": "StyleView",
       "description_width": ""
      }
     },
     "aa7d53a9657b4725b81893cae8e2c58b": {
      "model_module": "@jupyter-widgets/controls",
      "model_module_version": "1.5.0",
      "model_name": "ProgressStyleModel",
      "state": {
       "_model_module": "@jupyter-widgets/controls",
       "_model_module_version": "1.5.0",
       "_model_name": "ProgressStyleModel",
       "_view_count": null,
       "_view_module": "@jupyter-widgets/base",
       "_view_module_version": "1.2.0",
       "_view_name": "StyleView",
       "bar_color": null,
       "description_width": ""
      }
     },
     "b2aea58218b4480592e5fa467d3b34f6": {
      "model_module": "@jupyter-widgets/controls",
      "model_module_version": "1.5.0",
      "model_name": "DescriptionStyleModel",
      "state": {
       "_model_module": "@jupyter-widgets/controls",
       "_model_module_version": "1.5.0",
       "_model_name": "DescriptionStyleModel",
       "_view_count": null,
       "_view_module": "@jupyter-widgets/base",
       "_view_module_version": "1.2.0",
       "_view_name": "StyleView",
       "description_width": ""
      }
     },
     "bab59d18225942718eff0453c84aca80": {
      "model_module": "@jupyter-widgets/controls",
      "model_module_version": "1.5.0",
      "model_name": "HBoxModel",
      "state": {
       "_dom_classes": [],
       "_model_module": "@jupyter-widgets/controls",
       "_model_module_version": "1.5.0",
       "_model_name": "HBoxModel",
       "_view_count": null,
       "_view_module": "@jupyter-widgets/controls",
       "_view_module_version": "1.5.0",
       "_view_name": "HBoxView",
       "box_style": "",
       "children": [
        "IPY_MODEL_173b8693c9ba46d38e02e794069902fb",
        "IPY_MODEL_3e3b1d4388774cc29d19605bec98558e",
        "IPY_MODEL_dbcc7d53b29446ebb81a0a396b59f8a4"
       ],
       "layout": "IPY_MODEL_f04b54244bd240398c3c4f114a40d909"
      }
     },
     "bb5eebd8b4a641fc92c0c7ae921f6fe6": {
      "model_module": "@jupyter-widgets/controls",
      "model_module_version": "1.5.0",
      "model_name": "HTMLModel",
      "state": {
       "_dom_classes": [],
       "_model_module": "@jupyter-widgets/controls",
       "_model_module_version": "1.5.0",
       "_model_name": "HTMLModel",
       "_view_count": null,
       "_view_module": "@jupyter-widgets/controls",
       "_view_module_version": "1.5.0",
       "_view_name": "HTMLView",
       "description": "",
       "description_tooltip": null,
       "layout": "IPY_MODEL_e984da85046249a3af9fc409cbc14d4c",
       "placeholder": "​",
       "style": "IPY_MODEL_1f49a4b85a584d128af46d83d3bc6a6e",
       "value": ""
      }
     },
     "bbc2e885e32d4a219033b573802af3d4": {
      "model_module": "@jupyter-widgets/controls",
      "model_module_version": "1.5.0",
      "model_name": "FloatProgressModel",
      "state": {
       "_dom_classes": [],
       "_model_module": "@jupyter-widgets/controls",
       "_model_module_version": "1.5.0",
       "_model_name": "FloatProgressModel",
       "_view_count": null,
       "_view_module": "@jupyter-widgets/controls",
       "_view_module_version": "1.5.0",
       "_view_name": "ProgressView",
       "bar_style": "success",
       "description": "",
       "description_tooltip": null,
       "layout": "IPY_MODEL_a903e6d11dc046bfbe93cb7f0781d3ed",
       "max": 1648877.0,
       "min": 0.0,
       "orientation": "horizontal",
       "style": "IPY_MODEL_aa7d53a9657b4725b81893cae8e2c58b",
       "value": 1648877.0
      }
     },
     "d06b214a943c41bfbb8e85542969f020": {
      "model_module": "@jupyter-widgets/base",
      "model_module_version": "1.2.0",
      "model_name": "LayoutModel",
      "state": {
       "_model_module": "@jupyter-widgets/base",
       "_model_module_version": "1.2.0",
       "_model_name": "LayoutModel",
       "_view_count": null,
       "_view_module": "@jupyter-widgets/base",
       "_view_module_version": "1.2.0",
       "_view_name": "LayoutView",
       "align_content": null,
       "align_items": null,
       "align_self": null,
       "border": null,
       "bottom": null,
       "display": null,
       "flex": null,
       "flex_flow": null,
       "grid_area": null,
       "grid_auto_columns": null,
       "grid_auto_flow": null,
       "grid_auto_rows": null,
       "grid_column": null,
       "grid_gap": null,
       "grid_row": null,
       "grid_template_areas": null,
       "grid_template_columns": null,
       "grid_template_rows": null,
       "height": null,
       "justify_content": null,
       "justify_items": null,
       "left": null,
       "margin": null,
       "max_height": null,
       "max_width": null,
       "min_height": null,
       "min_width": null,
       "object_fit": null,
       "object_position": null,
       "order": null,
       "overflow": null,
       "overflow_x": null,
       "overflow_y": null,
       "padding": null,
       "right": null,
       "top": null,
       "visibility": null,
       "width": null
      }
     },
     "d6369971e796497dbbdc5946a37be3ab": {
      "model_module": "@jupyter-widgets/controls",
      "model_module_version": "1.5.0",
      "model_name": "HTMLModel",
      "state": {
       "_dom_classes": [],
       "_model_module": "@jupyter-widgets/controls",
       "_model_module_version": "1.5.0",
       "_model_name": "HTMLModel",
       "_view_count": null,
       "_view_module": "@jupyter-widgets/controls",
       "_view_module_version": "1.5.0",
       "_view_name": "HTMLView",
       "description": "",
       "description_tooltip": null,
       "layout": "IPY_MODEL_144575ad64d24652aea1e8e0120d7118",
       "placeholder": "​",
       "style": "IPY_MODEL_b2aea58218b4480592e5fa467d3b34f6",
       "value": " 5120/? [00:00&lt;00:00, 223272.93it/s]"
      }
     },
     "d8669b5ed6124d86959f1c39f40713a7": {
      "model_module": "@jupyter-widgets/base",
      "model_module_version": "1.2.0",
      "model_name": "LayoutModel",
      "state": {
       "_model_module": "@jupyter-widgets/base",
       "_model_module_version": "1.2.0",
       "_model_name": "LayoutModel",
       "_view_count": null,
       "_view_module": "@jupyter-widgets/base",
       "_view_module_version": "1.2.0",
       "_view_name": "LayoutView",
       "align_content": null,
       "align_items": null,
       "align_self": null,
       "border": null,
       "bottom": null,
       "display": null,
       "flex": null,
       "flex_flow": null,
       "grid_area": null,
       "grid_auto_columns": null,
       "grid_auto_flow": null,
       "grid_auto_rows": null,
       "grid_column": null,
       "grid_gap": null,
       "grid_row": null,
       "grid_template_areas": null,
       "grid_template_columns": null,
       "grid_template_rows": null,
       "height": null,
       "justify_content": null,
       "justify_items": null,
       "left": null,
       "margin": null,
       "max_height": null,
       "max_width": null,
       "min_height": null,
       "min_width": null,
       "object_fit": null,
       "object_position": null,
       "order": null,
       "overflow": null,
       "overflow_x": null,
       "overflow_y": null,
       "padding": null,
       "right": null,
       "top": null,
       "visibility": null,
       "width": null
      }
     },
     "dbcc7d53b29446ebb81a0a396b59f8a4": {
      "model_module": "@jupyter-widgets/controls",
      "model_module_version": "1.5.0",
      "model_name": "HTMLModel",
      "state": {
       "_dom_classes": [],
       "_model_module": "@jupyter-widgets/controls",
       "_model_module_version": "1.5.0",
       "_model_name": "HTMLModel",
       "_view_count": null,
       "_view_module": "@jupyter-widgets/controls",
       "_view_module_version": "1.5.0",
       "_view_name": "HTMLView",
       "description": "",
       "description_tooltip": null,
       "layout": "IPY_MODEL_6e1157acc89e47e882921f5f020ea904",
       "placeholder": "​",
       "style": "IPY_MODEL_99e6c2bb54d945e68bc4d1c8d7f1eb71",
       "value": " 29696/? [00:00&lt;00:00, 1215410.49it/s]"
      }
     },
     "dd822ea51ca142ecb83ef3cd82c880fc": {
      "model_module": "@jupyter-widgets/base",
      "model_module_version": "1.2.0",
      "model_name": "LayoutModel",
      "state": {
       "_model_module": "@jupyter-widgets/base",
       "_model_module_version": "1.2.0",
       "_model_name": "LayoutModel",
       "_view_count": null,
       "_view_module": "@jupyter-widgets/base",
       "_view_module_version": "1.2.0",
       "_view_name": "LayoutView",
       "align_content": null,
       "align_items": null,
       "align_self": null,
       "border": null,
       "bottom": null,
       "display": null,
       "flex": null,
       "flex_flow": null,
       "grid_area": null,
       "grid_auto_columns": null,
       "grid_auto_flow": null,
       "grid_auto_rows": null,
       "grid_column": null,
       "grid_gap": null,
       "grid_row": null,
       "grid_template_areas": null,
       "grid_template_columns": null,
       "grid_template_rows": null,
       "height": null,
       "justify_content": null,
       "justify_items": null,
       "left": null,
       "margin": null,
       "max_height": null,
       "max_width": null,
       "min_height": null,
       "min_width": null,
       "object_fit": null,
       "object_position": null,
       "order": null,
       "overflow": null,
       "overflow_x": null,
       "overflow_y": null,
       "padding": null,
       "right": null,
       "top": null,
       "visibility": null,
       "width": null
      }
     },
     "e4f14070a94d4e919b750ee80b4b57b1": {
      "model_module": "@jupyter-widgets/controls",
      "model_module_version": "1.5.0",
      "model_name": "HTMLModel",
      "state": {
       "_dom_classes": [],
       "_model_module": "@jupyter-widgets/controls",
       "_model_module_version": "1.5.0",
       "_model_name": "HTMLModel",
       "_view_count": null,
       "_view_module": "@jupyter-widgets/controls",
       "_view_module_version": "1.5.0",
       "_view_name": "HTMLView",
       "description": "",
       "description_tooltip": null,
       "layout": "IPY_MODEL_dd822ea51ca142ecb83ef3cd82c880fc",
       "placeholder": "​",
       "style": "IPY_MODEL_6760d5094fb64ea6b03d6fb7c8d9615b",
       "value": ""
      }
     },
     "e984da85046249a3af9fc409cbc14d4c": {
      "model_module": "@jupyter-widgets/base",
      "model_module_version": "1.2.0",
      "model_name": "LayoutModel",
      "state": {
       "_model_module": "@jupyter-widgets/base",
       "_model_module_version": "1.2.0",
       "_model_name": "LayoutModel",
       "_view_count": null,
       "_view_module": "@jupyter-widgets/base",
       "_view_module_version": "1.2.0",
       "_view_name": "LayoutView",
       "align_content": null,
       "align_items": null,
       "align_self": null,
       "border": null,
       "bottom": null,
       "display": null,
       "flex": null,
       "flex_flow": null,
       "grid_area": null,
       "grid_auto_columns": null,
       "grid_auto_flow": null,
       "grid_auto_rows": null,
       "grid_column": null,
       "grid_gap": null,
       "grid_row": null,
       "grid_template_areas": null,
       "grid_template_columns": null,
       "grid_template_rows": null,
       "height": null,
       "justify_content": null,
       "justify_items": null,
       "left": null,
       "margin": null,
       "max_height": null,
       "max_width": null,
       "min_height": null,
       "min_width": null,
       "object_fit": null,
       "object_position": null,
       "order": null,
       "overflow": null,
       "overflow_x": null,
       "overflow_y": null,
       "padding": null,
       "right": null,
       "top": null,
       "visibility": null,
       "width": null
      }
     },
     "f01d8b7bce5045c8a8bec25501a31afc": {
      "model_module": "@jupyter-widgets/base",
      "model_module_version": "1.2.0",
      "model_name": "LayoutModel",
      "state": {
       "_model_module": "@jupyter-widgets/base",
       "_model_module_version": "1.2.0",
       "_model_name": "LayoutModel",
       "_view_count": null,
       "_view_module": "@jupyter-widgets/base",
       "_view_module_version": "1.2.0",
       "_view_name": "LayoutView",
       "align_content": null,
       "align_items": null,
       "align_self": null,
       "border": null,
       "bottom": null,
       "display": null,
       "flex": null,
       "flex_flow": null,
       "grid_area": null,
       "grid_auto_columns": null,
       "grid_auto_flow": null,
       "grid_auto_rows": null,
       "grid_column": null,
       "grid_gap": null,
       "grid_row": null,
       "grid_template_areas": null,
       "grid_template_columns": null,
       "grid_template_rows": null,
       "height": null,
       "justify_content": null,
       "justify_items": null,
       "left": null,
       "margin": null,
       "max_height": null,
       "max_width": null,
       "min_height": null,
       "min_width": null,
       "object_fit": null,
       "object_position": null,
       "order": null,
       "overflow": null,
       "overflow_x": null,
       "overflow_y": null,
       "padding": null,
       "right": null,
       "top": null,
       "visibility": null,
       "width": null
      }
     },
     "f04b54244bd240398c3c4f114a40d909": {
      "model_module": "@jupyter-widgets/base",
      "model_module_version": "1.2.0",
      "model_name": "LayoutModel",
      "state": {
       "_model_module": "@jupyter-widgets/base",
       "_model_module_version": "1.2.0",
       "_model_name": "LayoutModel",
       "_view_count": null,
       "_view_module": "@jupyter-widgets/base",
       "_view_module_version": "1.2.0",
       "_view_name": "LayoutView",
       "align_content": null,
       "align_items": null,
       "align_self": null,
       "border": null,
       "bottom": null,
       "display": null,
       "flex": null,
       "flex_flow": null,
       "grid_area": null,
       "grid_auto_columns": null,
       "grid_auto_flow": null,
       "grid_auto_rows": null,
       "grid_column": null,
       "grid_gap": null,
       "grid_row": null,
       "grid_template_areas": null,
       "grid_template_columns": null,
       "grid_template_rows": null,
       "height": null,
       "justify_content": null,
       "justify_items": null,
       "left": null,
       "margin": null,
       "max_height": null,
       "max_width": null,
       "min_height": null,
       "min_width": null,
       "object_fit": null,
       "object_position": null,
       "order": null,
       "overflow": null,
       "overflow_x": null,
       "overflow_y": null,
       "padding": null,
       "right": null,
       "top": null,
       "visibility": null,
       "width": null
      }
     },
     "f0b9919a6d1f4b62a777ffce32be9426": {
      "model_module": "@jupyter-widgets/base",
      "model_module_version": "1.2.0",
      "model_name": "LayoutModel",
      "state": {
       "_model_module": "@jupyter-widgets/base",
       "_model_module_version": "1.2.0",
       "_model_name": "LayoutModel",
       "_view_count": null,
       "_view_module": "@jupyter-widgets/base",
       "_view_module_version": "1.2.0",
       "_view_name": "LayoutView",
       "align_content": null,
       "align_items": null,
       "align_self": null,
       "border": null,
       "bottom": null,
       "display": null,
       "flex": null,
       "flex_flow": null,
       "grid_area": null,
       "grid_auto_columns": null,
       "grid_auto_flow": null,
       "grid_auto_rows": null,
       "grid_column": null,
       "grid_gap": null,
       "grid_row": null,
       "grid_template_areas": null,
       "grid_template_columns": null,
       "grid_template_rows": null,
       "height": null,
       "justify_content": null,
       "justify_items": null,
       "left": null,
       "margin": null,
       "max_height": null,
       "max_width": null,
       "min_height": null,
       "min_width": null,
       "object_fit": null,
       "object_position": null,
       "order": null,
       "overflow": null,
       "overflow_x": null,
       "overflow_y": null,
       "padding": null,
       "right": null,
       "top": null,
       "visibility": null,
       "width": null
      }
     },
     "f1c0b69be63c491cba5589bf9d2232d4": {
      "model_module": "@jupyter-widgets/controls",
      "model_module_version": "1.5.0",
      "model_name": "ProgressStyleModel",
      "state": {
       "_model_module": "@jupyter-widgets/controls",
       "_model_module_version": "1.5.0",
       "_model_name": "ProgressStyleModel",
       "_view_count": null,
       "_view_module": "@jupyter-widgets/base",
       "_view_module_version": "1.2.0",
       "_view_name": "StyleView",
       "bar_color": null,
       "description_width": ""
      }
     },
     "f5d60fa6a02b470abb5fe2037d9a0863": {
      "model_module": "@jupyter-widgets/controls",
      "model_module_version": "1.5.0",
      "model_name": "HTMLModel",
      "state": {
       "_dom_classes": [],
       "_model_module": "@jupyter-widgets/controls",
       "_model_module_version": "1.5.0",
       "_model_name": "HTMLModel",
       "_view_count": null,
       "_view_module": "@jupyter-widgets/controls",
       "_view_module_version": "1.5.0",
       "_view_name": "HTMLView",
       "description": "",
       "description_tooltip": null,
       "layout": "IPY_MODEL_d8669b5ed6124d86959f1c39f40713a7",
       "placeholder": "​",
       "style": "IPY_MODEL_67d385119df449b39c5b5c06cfd3aecb",
       "value": " 9913344/? [00:00&lt;00:00, 19412478.13it/s]"
      }
     },
     "f9c9f2edbcee4b9f8616cb4a5a7c645e": {
      "model_module": "@jupyter-widgets/controls",
      "model_module_version": "1.5.0",
      "model_name": "HBoxModel",
      "state": {
       "_dom_classes": [],
       "_model_module": "@jupyter-widgets/controls",
       "_model_module_version": "1.5.0",
       "_model_name": "HBoxModel",
       "_view_count": null,
       "_view_module": "@jupyter-widgets/controls",
       "_view_module_version": "1.5.0",
       "_view_name": "HBoxView",
       "box_style": "",
       "children": [
        "IPY_MODEL_e4f14070a94d4e919b750ee80b4b57b1",
        "IPY_MODEL_528c3975a5f14c24a51228aef8602f07",
        "IPY_MODEL_d6369971e796497dbbdc5946a37be3ab"
       ],
       "layout": "IPY_MODEL_59bb85f82d054f648b28f212f3ce14f3"
      }
     },
     "fc97f46d7c2143cda877309a925f9639": {
      "model_module": "@jupyter-widgets/controls",
      "model_module_version": "1.5.0",
      "model_name": "FloatProgressModel",
      "state": {
       "_dom_classes": [],
       "_model_module": "@jupyter-widgets/controls",
       "_model_module_version": "1.5.0",
       "_model_name": "FloatProgressModel",
       "_view_count": null,
       "_view_module": "@jupyter-widgets/controls",
       "_view_module_version": "1.5.0",
       "_view_name": "ProgressView",
       "bar_style": "success",
       "description": "",
       "description_tooltip": null,
       "layout": "IPY_MODEL_809c9455d369408989450b5dd92de7b1",
       "max": 9912422.0,
       "min": 0.0,
       "orientation": "horizontal",
       "style": "IPY_MODEL_91567651ddbb44b892968ad873f1d06f",
       "value": 9912422.0
      }
     },
     "fe71ed43bf9644a28712e4287447c802": {
      "model_module": "@jupyter-widgets/base",
      "model_module_version": "1.2.0",
      "model_name": "LayoutModel",
      "state": {
       "_model_module": "@jupyter-widgets/base",
       "_model_module_version": "1.2.0",
       "_model_name": "LayoutModel",
       "_view_count": null,
       "_view_module": "@jupyter-widgets/base",
       "_view_module_version": "1.2.0",
       "_view_name": "LayoutView",
       "align_content": null,
       "align_items": null,
       "align_self": null,
       "border": null,
       "bottom": null,
       "display": null,
       "flex": null,
       "flex_flow": null,
       "grid_area": null,
       "grid_auto_columns": null,
       "grid_auto_flow": null,
       "grid_auto_rows": null,
       "grid_column": null,
       "grid_gap": null,
       "grid_row": null,
       "grid_template_areas": null,
       "grid_template_columns": null,
       "grid_template_rows": null,
       "height": null,
       "justify_content": null,
       "justify_items": null,
       "left": null,
       "margin": null,
       "max_height": null,
       "max_width": null,
       "min_height": null,
       "min_width": null,
       "object_fit": null,
       "object_position": null,
       "order": null,
       "overflow": null,
       "overflow_x": null,
       "overflow_y": null,
       "padding": null,
       "right": null,
       "top": null,
       "visibility": null,
       "width": null
      }
     }
    },
    "version_major": 2,
    "version_minor": 0
   }
  }
 },
 "nbformat": 4,
 "nbformat_minor": 5
}
